{
  "metadata": {
    "language_info": {
      "codemirror_mode": {
        "name": "python",
        "version": 3
      },
      "file_extension": ".py",
      "mimetype": "text/x-python",
      "name": "python",
      "nbconvert_exporter": "python",
      "pygments_lexer": "ipython3",
      "version": "3.8"
    },
    "kernelspec": {
      "name": "python",
      "display_name": "Pyolite",
      "language": "python"
    }
  },
  "nbformat_minor": 4,
  "nbformat": 4,
  "cells": [
    {
      "cell_type": "markdown",
      "source": "<center>\n    <h1>My Jupyter Notebook On Watson Studio\n        </center>",
      "metadata": {}
    },
    {
      "cell_type": "markdown",
      "source": "#### Artan Kadriju\nPreferred occupation: Computer Scientist\n",
      "metadata": {
        "tags": []
      }
    },
    {
      "cell_type": "markdown",
      "source": "<a href",
      "metadata": {}
    },
    {
      "cell_type": "markdown",
      "source": "Below is task number 3. Check the italic font :)<br><i> I am interested in Data Science because I like data. I have always tried to use data to improve my life (sleep,  sport skills, study habits), now I am trying to learn how to bring it to the next level",
      "metadata": {}
    },
    {
      "cell_type": "markdown",
      "source": "Below is task number 4<h3> <br> The code below has a nice personality. Try chatting with it :)\n    ",
      "metadata": {}
    },
    {
      "cell_type": "code",
      "source": "print(\"This is task number 5\")\nprint(\"Hi! I am a code written by R10 (short for Artan) as part of a Coursera assignment \\n\")\nname = input(\"What is your name?\\n \")\nprint(\"It was very nice meeting you \",name,\". I wish you good luck in your Data Science journeyor whatever it is that you are doing :)\")",
      "metadata": {
        "trusted": true
      },
      "execution_count": 9,
      "outputs": [
        {
          "name": "stdout",
          "text": "Hi! I am a code written by R10 (short for Artan) as part of a Coursera assignment \n\nIt was very nice meeting you  <Future pending> . I wish you good luck in your Data Science journeyor whatever it is that you are doing :)\n",
          "output_type": "stream"
        },
        {
          "output_type": "stream",
          "name": "stdin",
          "text": "What is your name?\n  Artan\n"
        }
      ]
    },
    {
      "cell_type": "markdown",
      "source": "Below is 1 - the hyperlink - of the 3 tasks requiered for the 6th question this block:\n<a href=\"https://www.youtube.com/watch?v=sZ-SwJjkSyw\"> What I think everytime I encounter a hard to follow video on the course</a>\n<hr> This line here is me using \"horizontal rule\" which helps me accomplish the 2nd task out of 3 I chose to do.\n<br>Here goes task 3:\n<ul>\n  <li>This </li>\n  <li>is</li>\n  <li>the</li>\n     <li>bulleted</li>\n     <li>list</li>\n</ul>",
      "metadata": {}
    }
  ]
}